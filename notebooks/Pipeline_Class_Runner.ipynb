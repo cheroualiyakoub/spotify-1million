{
 "cells": [
  {
   "cell_type": "code",
   "execution_count": 11,
   "id": "575cae98-7e70-486c-babb-7c0020f7f141",
   "metadata": {},
   "outputs": [],
   "source": [
    "import pandas as pd\n",
    "import numpy as np\n",
    "import math\n",
    "import logging\n",
    "import importlib\n",
    "\n",
    "import sys\n",
    "import os\n",
    "\n",
    "import matplotlib.pyplot as plt\n",
    "import mlflow\n",
    "\n",
    "from imblearn.over_sampling import SMOTE\n",
    "from sklearn.ensemble import RandomForestClassifier\n",
    "from sklearn.linear_model import LogisticRegression\n",
    "from sklearn.base import BaseEstimator, TransformerMixin\n",
    "from mlflow import log_metric, log_param, log_artifact\n",
    "from sklearn.ensemble import StackingClassifier\n",
    "from inspect import getsource\n",
    "import inspect\n",
    "\n",
    "from sklearn.metrics import classification_report\n",
    "from sklearn.metrics import accuracy_score\n",
    "from sklearn.pipeline import Pipeline\n",
    "from sklearn.compose import ColumnTransformer\n",
    "from xgboost import XGBClassifier\n",
    "from lightgbm import LGBMClassifier\n",
    "\n",
    "from sklearn.pipeline import Pipeline\n",
    "\n",
    "import tensorflow as tf\n",
    "\n",
    "import tempfile\n"
   ]
  },
  {
   "cell_type": "code",
   "execution_count": 2,
   "id": "0e8eac20-aca9-4919-9b81-523fdeb8473b",
   "metadata": {},
   "outputs": [
    {
     "data": {
      "text/plain": [
       "<module 'predict.acuuracy' from '/Users/level3/mlops_spotify/spotify-1million/src/predict/acuuracy.py'>"
      ]
     },
     "execution_count": 2,
     "metadata": {},
     "output_type": "execute_result"
    }
   ],
   "source": [
    "sys.path.append(os.path.abspath(os.path.join('..', 'src')))\n",
    "\n",
    "from data.load_data import load_data\n",
    "from data.split_data import split_data\n",
    "from data.clean_data import DataCleaner\n",
    "from data.string_toInt_encoder import StringToIntEncoder\n",
    "from data.oversample_minority import OversampleMinority\n",
    "from data.undersample_majority import UndersampleMajority\n",
    "from data.featur_target_pipline import FeatureTargetPipeline\n",
    "from data.target_binarizer import TargetBinarizer\n",
    "from data.dummies_encoder import SafeOneHotEncoder\n",
    "from data.artist_popularity import ArtistPopularityEncoder\n",
    "from data.balance_simpler import BalancedResampler\n",
    "\n",
    "\n",
    "from predict.acuuracy import ModelEvaluator\n",
    "\n",
    "from train.mlflow_experiment_runner import MLflowExperimentRunner\n",
    "# from train.model_evaluator import ModelEvaluator\n",
    "\n",
    "\n",
    "import data.load_data\n",
    "import data.split_data\n",
    "import data.clean_data\n",
    "import data.string_toInt_encoder\n",
    "import data.oversample_minority\n",
    "import data.undersample_majority\n",
    "import data.featur_target_pipline\n",
    "import data.dummies_encoder\n",
    "import data.artist_popularity\n",
    "import data.balance_simpler\n",
    "\n",
    "import predict.acuuracy\n",
    "\n",
    "# import train.model_evaluator\n",
    "import train.mlflow_experiment_runner\n",
    "\n",
    "\n",
    "importlib.reload(data.load_data)\n",
    "importlib.reload(data.split_data)\n",
    "importlib.reload(data.clean_data)\n",
    "importlib.reload(data.string_toInt_encoder)\n",
    "importlib.reload(data.oversample_minority)\n",
    "importlib.reload(data.undersample_majority)\n",
    "importlib.reload(data.dummies_encoder)\n",
    "importlib.reload(data.featur_target_pipline)\n",
    "importlib.reload(data.target_binarizer)\n",
    "importlib.reload(data.artist_popularity)\n",
    "importlib.reload(data.balance_simpler)\n",
    "\n",
    "# importlib.reload(train.model_evaluator)\n",
    "importlib.reload(train.mlflow_experiment_runner)\n",
    "\n",
    "\n",
    "importlib.reload(predict.acuuracy)\n",
    "\n"
   ]
  },
  {
   "cell_type": "code",
   "execution_count": 3,
   "id": "1e8d9f8b-af9e-4e5b-b871-7bc39eae9bd4",
   "metadata": {},
   "outputs": [
    {
     "name": "stdout",
     "output_type": "stream",
     "text": [
      "Loading data...\n",
      "Downloading dataset from Kaggle...\n",
      "Dataset URL: https://www.kaggle.com/datasets/amitanshjoshi/spotify-1million-tracks\n",
      "Download complete.\n",
      "Loading CSV data...\n",
      "Data loaded successfully.\n"
     ]
    }
   ],
   "source": [
    "data_folder = './data'\n",
    "df = load_data(data_folder)"
   ]
  },
  {
   "cell_type": "code",
   "execution_count": 4,
   "id": "dc02c6c7-58b8-46dd-93ce-078f2fa6d90c",
   "metadata": {},
   "outputs": [],
   "source": [
    "target = df['popularity']\n",
    "y = TargetBinarizer(threshold=50).fit_transform(target)\n",
    "X = df.drop(columns='popularity')\n",
    "\n",
    "X_train, X_val, X_test, y_train, y_val, y_test = split_data(X, y)"
   ]
  },
  {
   "cell_type": "code",
   "execution_count": 6,
   "id": "39c26c30-ad0c-44dc-8e42-8cc58b224bf7",
   "metadata": {},
   "outputs": [],
   "source": [
    "base_preprocessor = Pipeline([\n",
    "    ('artist_encoder', ArtistPopularityEncoder()),\n",
    "    ('data_cleaner', DataCleaner()),\n",
    "    ('encoder', SafeOneHotEncoder(columns=['genre', 'key', 'time_signature'])),\n",
    "    ('scaler', StandardScaler()),\n",
    "])"
   ]
  },
  {
   "cell_type": "code",
   "execution_count": 12,
   "id": "eaf86816-2f36-46c8-ba0f-79053ff88f4d",
   "metadata": {},
   "outputs": [],
   "source": [
    "# In your DLExperimentWrapper\n",
    "from tensorflow.keras.mixed_precision import Policy\n",
    "policy = Policy('mixed_float16')\n",
    "tf.keras.mixed_precision.set_global_policy(policy)"
   ]
  },
  {
   "cell_type": "code",
   "execution_count": 14,
   "id": "c89c0093-712d-4713-b081-a42cb8042251",
   "metadata": {},
   "outputs": [
    {
     "name": "stderr",
     "output_type": "stream",
     "text": [
      "/Users/level3/mlops_spotify/spotify-1million/.venv/lib/python3.11/site-packages/mlflow/types/utils.py:452: UserWarning: Hint: Inferred schema contains integer column(s). Integer columns in Python cannot represent missing values. If your input data contains missing values at inference time, it will be encoded as floats and will cause a schema enforcement error. The best way to avoid this problem is to infer the model schema based on a realistic data sample (training dataset) that includes missing values. Alternatively, you can declare integer columns as doubles (float64) whenever these columns may have missing values. See `Handling Integers With Missing Values <https://www.mlflow.org/docs/latest/models.html#handling-integers-with-missing-values>`_ for more details.\n",
      "  warnings.warn(\n"
     ]
    },
    {
     "name": "stdout",
     "output_type": "stream",
     "text": [
      "🏃 View run gifted-mule-824 at: http://localhost:5000/#/experiments/400003216354571829/runs/2221aa75aba84748a082e0defd6e5c4e\n",
      "🧪 View experiment at: http://localhost:5000/#/experiments/400003216354571829\n",
      "Experiment 1 results: {'accuracy': 0.8359727531399994, 'precision': 0.20635829872547615, 'recall': 0.8972602739726028, 'f1': 0.3355454651298172, 'roc_auc': np.float64(0.9378699276874045)}\n"
     ]
    }
   ],
   "source": [
    "# Example of how to use the MLflowExperimentRunner class with your experiment configuration\n",
    "\n",
    "from sklearn.ensemble import RandomForestClassifier\n",
    "from xgboost import XGBClassifier\n",
    "from sklearn.pipeline import Pipeline\n",
    "from sklearn.preprocessing import StandardScaler, OneHotEncoder\n",
    "from sklearn.compose import ColumnTransformer\n",
    "import pandas as pd\n",
    "import numpy as np\n",
    "\n",
    "\n",
    "# 1. Create an instance of the experiment runner\n",
    "runner = MLflowExperimentRunner(\n",
    "    experiment_name=\"Spotify_Popularity\",\n",
    "    tracking_uri=\"http://localhost:5000\",\n",
    "    evaluator_class=ModelEvaluator  # Set default evaluator class\n",
    ")\n",
    "\n",
    "# 2. Define your experiment configurations\n",
    "experiments = [\n",
    "    {\n",
    "        \"model\": XGBClassifier(),\n",
    "        \"sampler\": BalancedResampler,  # Your custom resampler class\n",
    "        \"preprocessor\": base_preprocessor,  # Your preprocessing pipeline\n",
    "        \"X_train\": X_train,\n",
    "        \"y_train\": y_train,\n",
    "        \"X_val\": X_val,\n",
    "        \"y_val\": y_val,\n",
    "        \"model_params\": {\n",
    "            'n_estimators': 300,\n",
    "            'max_depth': 8,\n",
    "            'learning_rate': 0.1,\n",
    "            'scale_pos_weight': 1.9\n",
    "        },\n",
    "        \"sampler_params\": {},\n",
    "        \"dataset_version\": \"2024-03-v2\",\n",
    "        \"input_example\": X_train.sample(5),\n",
    "        \"metadata\": {\n",
    "            \"business_impact\": \"high\",\n",
    "            \"owner\": \"data-team\",\n",
    "            \"description\": \"XGBoost with class balancing\"\n",
    "        },\n",
    "        \"tags\": {\n",
    "            \"stage\": \"production-candidate\",\n",
    "            \"data_source\": \"spotify-api\"\n",
    "        },\n",
    "        # \"registered_model_name\": \"SpotifyPopularityClassifier\",  # Uncomment to register\n",
    "        \"log_artifacts\": True\n",
    "    },\n",
    "    # You can add more experiment configurations here\n",
    "    # {\n",
    "    #     \"model\": RandomForestClassifier(),\n",
    "    #     \"preprocessor\": base_preprocessor,  # Your preprocessing pipeline\n",
    "    #     \"sampler\": BalancedResampler,\n",
    "    #     \"X_train\": X_train,\n",
    "    #     \"y_train\": y_train, \n",
    "    #     \"X_val\": X_val,\n",
    "    #     \"y_val\": y_val,\n",
    "    #     \"model_params\": {\n",
    "    #         'n_estimators': 200,\n",
    "    #         'max_depth': 10,\n",
    "    #         'min_samples_split': 5\n",
    "    #     },\n",
    "    #     \"sampler_params\": {},\n",
    "    #     \"metadata\": {\n",
    "    #         \"description\": \"Random Forest baseline model\"\n",
    "    #     },\n",
    "    #     \"tags\": {\n",
    "    #         \"stage\": \"baseline\"\n",
    "    #     }\n",
    "    # }\n",
    "]\n",
    "\n",
    "# 3. Run all experiments at once\n",
    "results = runner.run_experiments(experiments)\n",
    "for i, result in enumerate(results):\n",
    "    print(f\"Experiment {i+1} results: {result}\")\n",
    "\n",
    "# Or run them individually\n",
    "# for exp in experiments:\n",
    "#     result = runner.run_experiment(**exp)\n",
    "#     print(f\"Experiment results: {result}\")"
   ]
  },
  {
   "cell_type": "code",
   "execution_count": null,
   "id": "c3856a6a-8c45-413f-a75d-627452307c72",
   "metadata": {},
   "outputs": [],
   "source": []
  }
 ],
 "metadata": {
  "kernelspec": {
   "display_name": "Python 3 (ipykernel)",
   "language": "python",
   "name": "python3"
  },
  "language_info": {
   "codemirror_mode": {
    "name": "ipython",
    "version": 3
   },
   "file_extension": ".py",
   "mimetype": "text/x-python",
   "name": "python",
   "nbconvert_exporter": "python",
   "pygments_lexer": "ipython3",
   "version": "3.11.12"
  }
 },
 "nbformat": 4,
 "nbformat_minor": 5
}
